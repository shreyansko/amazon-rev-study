{
  "nbformat": 4,
  "nbformat_minor": 0,
  "metadata": {
    "colab": {
      "name": "NLP_Project.ipynb",
      "provenance": [],
      "collapsed_sections": [],
      "mount_file_id": "1Hw5UzaS45v0W2BQSRUkmrkklPD9d-vPt",
      "authorship_tag": "ABX9TyNU8Ki67UKzG9bYZys9Y222",
      "include_colab_link": true
    },
    "kernelspec": {
      "name": "python3",
      "display_name": "Python 3"
    },
    "language_info": {
      "name": "python"
    }
  },
  "cells": [
    {
      "cell_type": "markdown",
      "metadata": {
        "id": "view-in-github",
        "colab_type": "text"
      },
      "source": [
        "<a href=\"https://colab.research.google.com/github/shreyansko/amazon-rev-study/blob/main/models/NLP_Project_NLTK_VADER.ipynb\" target=\"_parent\"><img src=\"https://colab.research.google.com/assets/colab-badge.svg\" alt=\"Open In Colab\"/></a>"
      ]
    },
    {
      "cell_type": "code",
      "metadata": {
        "id": "MfwR6Us7bgTZ"
      },
      "source": [
        "import pandas as pd\n",
        "import numpy as np\n",
        "import matplotlib.pyplot as plt\n"
      ],
      "execution_count": null,
      "outputs": []
    },
    {
      "cell_type": "code",
      "metadata": {
        "id": "hppDOLpwclS6"
      },
      "source": [
        "groc_data = pd.read_csv(\"/content/drive/MyDrive/groc_amz_data_processed.csv.gz\", sep =',')\n",
        "groc_data = groc_data.drop(columns = ['unix_timestamp', 'Unnamed: 0'])"
      ],
      "execution_count": null,
      "outputs": []
    },
    {
      "cell_type": "code",
      "metadata": {
        "id": "p4De1gPQcoEu"
      },
      "source": [
        "#home_data = pd.read_csv(\"/content/drive/MyDrive/home_kitchen_data_processed.csv.gz\", sep = \",\")\n",
        "#home_data = home_data.drop(columns = ['unix_timestamp', 'Unnamed: 0'])"
      ],
      "execution_count": null,
      "outputs": []
    },
    {
      "cell_type": "code",
      "metadata": {
        "colab": {
          "base_uri": "https://localhost:8080/"
        },
        "id": "cBRE6zcWeRlZ",
        "outputId": "4980cdf4-bd1a-4b42-fa22-4e4b7dbdf9fa"
      },
      "source": [
        "import nltk\n",
        "nltk.download([\"vader_lexicon\",\"punkt\"])\n",
        "from nltk.sentiment import SentimentIntensityAnalyzer"
      ],
      "execution_count": null,
      "outputs": [
        {
          "output_type": "stream",
          "name": "stdout",
          "text": [
            "[nltk_data] Downloading package vader_lexicon to /root/nltk_data...\n",
            "[nltk_data]   Package vader_lexicon is already up-to-date!\n",
            "[nltk_data] Downloading package punkt to /root/nltk_data...\n",
            "[nltk_data]   Package punkt is already up-to-date!\n"
          ]
        }
      ]
    },
    {
      "cell_type": "code",
      "metadata": {
        "id": "i9yrirM5e6Az"
      },
      "source": [
        "sa = SentimentIntensityAnalyzer()"
      ],
      "execution_count": null,
      "outputs": []
    },
    {
      "cell_type": "code",
      "metadata": {
        "colab": {
          "base_uri": "https://localhost:8080/"
        },
        "id": "JhxFZbxmfAqt",
        "outputId": "cde39f0a-8e0a-450d-aa5e-781b76301e4e"
      },
      "source": [
        "sa.polarity_scores(\"For six months, I have been struggling with inexplicable symptoms of what I thought was tendonitis.  Turns out that it was very likely gout caused by the heavy metals contamination in all of the GOL Raw Meal and Raw Protein that I was consuming.  I lost months of productivity, spent a lot of time and money attempting to solve my problem, and damaged my health.  I urge EXTREME CAUTION\")"
      ],
      "execution_count": null,
      "outputs": [
        {
          "output_type": "execute_result",
          "data": {
            "text/plain": [
              "{'compound': -0.836, 'neg': 0.152, 'neu': 0.823, 'pos': 0.026}"
            ]
          },
          "metadata": {},
          "execution_count": 9
        }
      ]
    },
    {
      "cell_type": "code",
      "metadata": {
        "colab": {
          "base_uri": "https://localhost:8080/"
        },
        "id": "x654ir88f_5j",
        "outputId": "f4c985fa-623e-4201-913b-f09de4b110fc"
      },
      "source": [
        "(abc['neg'])"
      ],
      "execution_count": null,
      "outputs": [
        {
          "output_type": "execute_result",
          "data": {
            "text/plain": [
              "0.787"
            ]
          },
          "metadata": {},
          "execution_count": 40
        }
      ]
    },
    {
      "cell_type": "code",
      "metadata": {
        "id": "HGLkGBdBfMdt"
      },
      "source": [
        "df = pd.DataFrame()\n",
        "for words in groc_data['review_headline'].head(125000):\n",
        "  tmp = sa.polarity_scores(str(words))\n",
        "  #df['neg_score'] = tmp['neg']\n",
        "  #df['pos_score'] = tmp['pos']\n",
        "  #df['neu_score'] = tmp['neu']\n",
        "  #df['compound'] = tmp['compound']\n",
        "  df = df.append({'neg_score': tmp['neg'], 'pos_score': tmp['pos'], \n",
        "                  'neu_score': tmp['neu'], 'compound':tmp['compound']},\n",
        "                 ignore_index = True)"
      ],
      "execution_count": null,
      "outputs": []
    },
    {
      "cell_type": "code",
      "metadata": {
        "id": "2vHMA-3dhf8q"
      },
      "source": [
        "df['review_headline'] = groc_data['review_headline']\n"
      ],
      "execution_count": null,
      "outputs": []
    },
    {
      "cell_type": "code",
      "metadata": {
        "id": "WCLIeK6AjYHF"
      },
      "source": [
        "df['rating'] = groc_data['rating']"
      ],
      "execution_count": null,
      "outputs": []
    },
    {
      "cell_type": "code",
      "metadata": {
        "colab": {
          "base_uri": "https://localhost:8080/",
          "height": 694
        },
        "id": "bs9x8UIOkYpg",
        "outputId": "bf2acf59-2c15-4c3e-cd74-d414c6b1a529"
      },
      "source": [
        "df.head(20)"
      ],
      "execution_count": null,
      "outputs": [
        {
          "output_type": "execute_result",
          "data": {
            "text/html": [
              "<div>\n",
              "<style scoped>\n",
              "    .dataframe tbody tr th:only-of-type {\n",
              "        vertical-align: middle;\n",
              "    }\n",
              "\n",
              "    .dataframe tbody tr th {\n",
              "        vertical-align: top;\n",
              "    }\n",
              "\n",
              "    .dataframe thead th {\n",
              "        text-align: right;\n",
              "    }\n",
              "</style>\n",
              "<table border=\"1\" class=\"dataframe\">\n",
              "  <thead>\n",
              "    <tr style=\"text-align: right;\">\n",
              "      <th></th>\n",
              "      <th>compound</th>\n",
              "      <th>neg_score</th>\n",
              "      <th>neu_score</th>\n",
              "      <th>pos_score</th>\n",
              "      <th>review_headline</th>\n",
              "      <th>rating</th>\n",
              "    </tr>\n",
              "  </thead>\n",
              "  <tbody>\n",
              "    <tr>\n",
              "      <th>0</th>\n",
              "      <td>0.6369</td>\n",
              "      <td>0.000</td>\n",
              "      <td>0.488</td>\n",
              "      <td>0.512</td>\n",
              "      <td>Best vanilla I've ever had</td>\n",
              "      <td>5</td>\n",
              "    </tr>\n",
              "    <tr>\n",
              "      <th>1</th>\n",
              "      <td>0.5255</td>\n",
              "      <td>0.000</td>\n",
              "      <td>0.228</td>\n",
              "      <td>0.772</td>\n",
              "      <td>Terrific Tea!</td>\n",
              "      <td>5</td>\n",
              "    </tr>\n",
              "    <tr>\n",
              "      <th>2</th>\n",
              "      <td>0.0000</td>\n",
              "      <td>0.000</td>\n",
              "      <td>1.000</td>\n",
              "      <td>0.000</td>\n",
              "      <td>grrrrrrr</td>\n",
              "      <td>1</td>\n",
              "    </tr>\n",
              "    <tr>\n",
              "      <th>3</th>\n",
              "      <td>0.0000</td>\n",
              "      <td>0.000</td>\n",
              "      <td>1.000</td>\n",
              "      <td>0.000</td>\n",
              "      <td>Storage on Wheels Cart</td>\n",
              "      <td>3</td>\n",
              "    </tr>\n",
              "    <tr>\n",
              "      <th>4</th>\n",
              "      <td>0.6369</td>\n",
              "      <td>0.000</td>\n",
              "      <td>0.417</td>\n",
              "      <td>0.583</td>\n",
              "      <td>The best drink mix</td>\n",
              "      <td>5</td>\n",
              "    </tr>\n",
              "    <tr>\n",
              "      <th>5</th>\n",
              "      <td>-0.6208</td>\n",
              "      <td>0.266</td>\n",
              "      <td>0.734</td>\n",
              "      <td>0.000</td>\n",
              "      <td>Oops.  Made a mistake and ordered this.  I mis...</td>\n",
              "      <td>1</td>\n",
              "    </tr>\n",
              "    <tr>\n",
              "      <th>6</th>\n",
              "      <td>0.3612</td>\n",
              "      <td>0.000</td>\n",
              "      <td>0.615</td>\n",
              "      <td>0.385</td>\n",
              "      <td>Tastes a Bit  like Cough Syrup</td>\n",
              "      <td>3</td>\n",
              "    </tr>\n",
              "    <tr>\n",
              "      <th>7</th>\n",
              "      <td>0.0000</td>\n",
              "      <td>0.000</td>\n",
              "      <td>1.000</td>\n",
              "      <td>0.000</td>\n",
              "      <td>Decent flavor, value...meh.</td>\n",
              "      <td>4</td>\n",
              "    </tr>\n",
              "    <tr>\n",
              "      <th>8</th>\n",
              "      <td>0.3182</td>\n",
              "      <td>0.341</td>\n",
              "      <td>0.000</td>\n",
              "      <td>0.659</td>\n",
              "      <td>Interesting bitters</td>\n",
              "      <td>3</td>\n",
              "    </tr>\n",
              "    <tr>\n",
              "      <th>9</th>\n",
              "      <td>0.5994</td>\n",
              "      <td>0.000</td>\n",
              "      <td>0.204</td>\n",
              "      <td>0.796</td>\n",
              "      <td>Beautiful dice</td>\n",
              "      <td>5</td>\n",
              "    </tr>\n",
              "    <tr>\n",
              "      <th>10</th>\n",
              "      <td>0.0000</td>\n",
              "      <td>0.000</td>\n",
              "      <td>1.000</td>\n",
              "      <td>0.000</td>\n",
              "      <td>They're dice!</td>\n",
              "      <td>4</td>\n",
              "    </tr>\n",
              "    <tr>\n",
              "      <th>11</th>\n",
              "      <td>0.6588</td>\n",
              "      <td>0.000</td>\n",
              "      <td>0.185</td>\n",
              "      <td>0.815</td>\n",
              "      <td>Great accessory!</td>\n",
              "      <td>5</td>\n",
              "    </tr>\n",
              "    <tr>\n",
              "      <th>12</th>\n",
              "      <td>0.0000</td>\n",
              "      <td>0.000</td>\n",
              "      <td>1.000</td>\n",
              "      <td>0.000</td>\n",
              "      <td>Dresden Files!</td>\n",
              "      <td>5</td>\n",
              "    </tr>\n",
              "    <tr>\n",
              "      <th>13</th>\n",
              "      <td>0.5562</td>\n",
              "      <td>0.000</td>\n",
              "      <td>0.358</td>\n",
              "      <td>0.642</td>\n",
              "      <td>Heaven on EARTH!</td>\n",
              "      <td>5</td>\n",
              "    </tr>\n",
              "    <tr>\n",
              "      <th>14</th>\n",
              "      <td>0.0000</td>\n",
              "      <td>0.000</td>\n",
              "      <td>1.000</td>\n",
              "      <td>0.000</td>\n",
              "      <td>overwhelming smoky flavor</td>\n",
              "      <td>4</td>\n",
              "    </tr>\n",
              "    <tr>\n",
              "      <th>15</th>\n",
              "      <td>0.0000</td>\n",
              "      <td>0.000</td>\n",
              "      <td>1.000</td>\n",
              "      <td>0.000</td>\n",
              "      <td>Finally! Hot pepper powder!</td>\n",
              "      <td>5</td>\n",
              "    </tr>\n",
              "    <tr>\n",
              "      <th>16</th>\n",
              "      <td>0.4215</td>\n",
              "      <td>0.000</td>\n",
              "      <td>0.263</td>\n",
              "      <td>0.737</td>\n",
              "      <td>nice heat</td>\n",
              "      <td>5</td>\n",
              "    </tr>\n",
              "    <tr>\n",
              "      <th>17</th>\n",
              "      <td>0.0000</td>\n",
              "      <td>0.000</td>\n",
              "      <td>1.000</td>\n",
              "      <td>0.000</td>\n",
              "      <td>Smoky hot and tasty</td>\n",
              "      <td>5</td>\n",
              "    </tr>\n",
              "    <tr>\n",
              "      <th>18</th>\n",
              "      <td>0.5719</td>\n",
              "      <td>0.000</td>\n",
              "      <td>0.448</td>\n",
              "      <td>0.552</td>\n",
              "      <td>Wonderful aroma, spicy enough</td>\n",
              "      <td>5</td>\n",
              "    </tr>\n",
              "    <tr>\n",
              "      <th>19</th>\n",
              "      <td>0.0000</td>\n",
              "      <td>0.000</td>\n",
              "      <td>1.000</td>\n",
              "      <td>0.000</td>\n",
              "      <td>Hot</td>\n",
              "      <td>5</td>\n",
              "    </tr>\n",
              "  </tbody>\n",
              "</table>\n",
              "</div>"
            ],
            "text/plain": [
              "    compound  ...  rating\n",
              "0     0.6369  ...       5\n",
              "1     0.5255  ...       5\n",
              "2     0.0000  ...       1\n",
              "3     0.0000  ...       3\n",
              "4     0.6369  ...       5\n",
              "5    -0.6208  ...       1\n",
              "6     0.3612  ...       3\n",
              "7     0.0000  ...       4\n",
              "8     0.3182  ...       3\n",
              "9     0.5994  ...       5\n",
              "10    0.0000  ...       4\n",
              "11    0.6588  ...       5\n",
              "12    0.0000  ...       5\n",
              "13    0.5562  ...       5\n",
              "14    0.0000  ...       4\n",
              "15    0.0000  ...       5\n",
              "16    0.4215  ...       5\n",
              "17    0.0000  ...       5\n",
              "18    0.5719  ...       5\n",
              "19    0.0000  ...       5\n",
              "\n",
              "[20 rows x 6 columns]"
            ]
          },
          "metadata": {},
          "execution_count": 51
        }
      ]
    },
    {
      "cell_type": "code",
      "metadata": {
        "id": "SWDMyC_3lX2F"
      },
      "source": [
        "df_review = pd.DataFrame()\n",
        "for words in groc_data['review_text_processed'].head(125000):\n",
        "  tmp1 = sa.polarity_scores(str(words))\n",
        "  df_review = df_review.append({'neg_score': tmp1['neg'], 'pos_score': tmp1['pos'], \n",
        "                  'neu_score': tmp1['neu'], 'compound':tmp1['compound']},\n",
        "                 ignore_index = True)"
      ],
      "execution_count": null,
      "outputs": []
    },
    {
      "cell_type": "code",
      "metadata": {
        "id": "Rg8FyyiIldAz",
        "colab": {
          "base_uri": "https://localhost:8080/",
          "height": 676
        },
        "outputId": "ce0b9725-9b62-421b-e771-daa88536d99d"
      },
      "source": [
        "df_review['reviews'] = groc_data['review_text_processed']\n",
        "df_review['rating'] = groc_data['rating']\n",
        "df_review.head(20)"
      ],
      "execution_count": null,
      "outputs": [
        {
          "output_type": "execute_result",
          "data": {
            "text/html": [
              "<div>\n",
              "<style scoped>\n",
              "    .dataframe tbody tr th:only-of-type {\n",
              "        vertical-align: middle;\n",
              "    }\n",
              "\n",
              "    .dataframe tbody tr th {\n",
              "        vertical-align: top;\n",
              "    }\n",
              "\n",
              "    .dataframe thead th {\n",
              "        text-align: right;\n",
              "    }\n",
              "</style>\n",
              "<table border=\"1\" class=\"dataframe\">\n",
              "  <thead>\n",
              "    <tr style=\"text-align: right;\">\n",
              "      <th></th>\n",
              "      <th>compound</th>\n",
              "      <th>neg_score</th>\n",
              "      <th>neu_score</th>\n",
              "      <th>pos_score</th>\n",
              "      <th>reviews</th>\n",
              "      <th>rating</th>\n",
              "    </tr>\n",
              "  </thead>\n",
              "  <tbody>\n",
              "    <tr>\n",
              "      <th>0</th>\n",
              "      <td>0.9085</td>\n",
              "      <td>0.036</td>\n",
              "      <td>0.740</td>\n",
              "      <td>0.224</td>\n",
              "      <td>no sugar, gmo garbage, fillers come store boug...</td>\n",
              "      <td>5</td>\n",
              "    </tr>\n",
              "    <tr>\n",
              "      <th>1</th>\n",
              "      <td>0.9793</td>\n",
              "      <td>0.000</td>\n",
              "      <td>0.668</td>\n",
              "      <td>0.332</td>\n",
              "      <td>this absolute, undisputed favorite tea right n...</td>\n",
              "      <td>5</td>\n",
              "    </tr>\n",
              "    <tr>\n",
              "      <th>2</th>\n",
              "      <td>0.6467</td>\n",
              "      <td>0.000</td>\n",
              "      <td>0.843</td>\n",
              "      <td>0.157</td>\n",
              "      <td>i ordered spongbob slippers i got john cena ha...</td>\n",
              "      <td>1</td>\n",
              "    </tr>\n",
              "    <tr>\n",
              "      <th>3</th>\n",
              "      <td>-0.5994</td>\n",
              "      <td>0.236</td>\n",
              "      <td>0.604</td>\n",
              "      <td>0.160</td>\n",
              "      <td>the cart fine works purpose i bought it. (farm...</td>\n",
              "      <td>3</td>\n",
              "    </tr>\n",
              "    <tr>\n",
              "      <th>4</th>\n",
              "      <td>0.9441</td>\n",
              "      <td>0.000</td>\n",
              "      <td>0.718</td>\n",
              "      <td>0.282</td>\n",
              "      <td>this product archer farms best drink mix ever....</td>\n",
              "      <td>5</td>\n",
              "    </tr>\n",
              "    <tr>\n",
              "      <th>5</th>\n",
              "      <td>-0.7717</td>\n",
              "      <td>0.442</td>\n",
              "      <td>0.558</td>\n",
              "      <td>0.000</td>\n",
              "      <td>don't buy item - rip price. my bad, mistake. p...</td>\n",
              "      <td>1</td>\n",
              "    </tr>\n",
              "    <tr>\n",
              "      <th>6</th>\n",
              "      <td>0.7650</td>\n",
              "      <td>0.000</td>\n",
              "      <td>0.784</td>\n",
              "      <td>0.216</td>\n",
              "      <td>my wife picked sale. i usually drink crystal l...</td>\n",
              "      <td>3</td>\n",
              "    </tr>\n",
              "    <tr>\n",
              "      <th>7</th>\n",
              "      <td>0.9869</td>\n",
              "      <td>0.020</td>\n",
              "      <td>0.775</td>\n",
              "      <td>0.206</td>\n",
              "      <td>i bought sale (2 $4confusion local supermarket...</td>\n",
              "      <td>4</td>\n",
              "    </tr>\n",
              "    <tr>\n",
              "      <th>8</th>\n",
              "      <td>0.2481</td>\n",
              "      <td>0.112</td>\n",
              "      <td>0.797</td>\n",
              "      <td>0.091</td>\n",
              "      <td>i martini local distillery used bit wormwood b...</td>\n",
              "      <td>3</td>\n",
              "    </tr>\n",
              "    <tr>\n",
              "      <th>9</th>\n",
              "      <td>0.8316</td>\n",
              "      <td>0.000</td>\n",
              "      <td>0.645</td>\n",
              "      <td>0.355</td>\n",
              "      <td>i bought part xmas gift, i needed look nice. t...</td>\n",
              "      <td>5</td>\n",
              "    </tr>\n",
              "    <tr>\n",
              "      <th>10</th>\n",
              "      <td>0.9041</td>\n",
              "      <td>0.000</td>\n",
              "      <td>0.474</td>\n",
              "      <td>0.526</td>\n",
              "      <td>and they're pretty nice! one set looks like ic...</td>\n",
              "      <td>4</td>\n",
              "    </tr>\n",
              "    <tr>\n",
              "      <th>11</th>\n",
              "      <td>0.5538</td>\n",
              "      <td>0.202</td>\n",
              "      <td>0.509</td>\n",
              "      <td>0.289</td>\n",
              "      <td>i buy lot accessories games i happy i purchase...</td>\n",
              "      <td>5</td>\n",
              "    </tr>\n",
              "    <tr>\n",
              "      <th>12</th>\n",
              "      <td>0.6369</td>\n",
              "      <td>0.000</td>\n",
              "      <td>0.658</td>\n",
              "      <td>0.342</td>\n",
              "      <td>as dresden files fan, get winter knight themed...</td>\n",
              "      <td>5</td>\n",
              "    </tr>\n",
              "    <tr>\n",
              "      <th>13</th>\n",
              "      <td>0.9785</td>\n",
              "      <td>0.032</td>\n",
              "      <td>0.553</td>\n",
              "      <td>0.415</td>\n",
              "      <td>umm, ok everyone reading review, put item cart...</td>\n",
              "      <td>5</td>\n",
              "    </tr>\n",
              "    <tr>\n",
              "      <th>14</th>\n",
              "      <td>0.5709</td>\n",
              "      <td>0.051</td>\n",
              "      <td>0.773</td>\n",
              "      <td>0.176</td>\n",
              "      <td>i use like 1/3 teaspoon spicy cup soup i make ...</td>\n",
              "      <td>4</td>\n",
              "    </tr>\n",
              "    <tr>\n",
              "      <th>15</th>\n",
              "      <td>0.9703</td>\n",
              "      <td>0.018</td>\n",
              "      <td>0.689</td>\n",
              "      <td>0.293</td>\n",
              "      <td>i've enjoyed many varieties hot sauces, i've a...</td>\n",
              "      <td>5</td>\n",
              "    </tr>\n",
              "    <tr>\n",
              "      <th>16</th>\n",
              "      <td>0.2960</td>\n",
              "      <td>0.091</td>\n",
              "      <td>0.753</td>\n",
              "      <td>0.156</td>\n",
              "      <td>good heat chilli head, think jalapenos hot you...</td>\n",
              "      <td>5</td>\n",
              "    </tr>\n",
              "    <tr>\n",
              "      <th>17</th>\n",
              "      <td>0.6467</td>\n",
              "      <td>0.000</td>\n",
              "      <td>0.654</td>\n",
              "      <td>0.346</td>\n",
              "      <td>exactly be. tasty hot! this take wings top, fr...</td>\n",
              "      <td>5</td>\n",
              "    </tr>\n",
              "    <tr>\n",
              "      <th>18</th>\n",
              "      <td>0.8555</td>\n",
              "      <td>0.000</td>\n",
              "      <td>0.789</td>\n",
              "      <td>0.211</td>\n",
              "      <td>i grew fresh ones summer wanted powder i run o...</td>\n",
              "      <td>5</td>\n",
              "    </tr>\n",
              "    <tr>\n",
              "      <th>19</th>\n",
              "      <td>0.2732</td>\n",
              "      <td>0.000</td>\n",
              "      <td>0.704</td>\n",
              "      <td>0.296</td>\n",
              "      <td>fast hot, i mention hot, well hot</td>\n",
              "      <td>5</td>\n",
              "    </tr>\n",
              "  </tbody>\n",
              "</table>\n",
              "</div>"
            ],
            "text/plain": [
              "    compound  ...  rating\n",
              "0     0.9085  ...       5\n",
              "1     0.9793  ...       5\n",
              "2     0.6467  ...       1\n",
              "3    -0.5994  ...       3\n",
              "4     0.9441  ...       5\n",
              "5    -0.7717  ...       1\n",
              "6     0.7650  ...       3\n",
              "7     0.9869  ...       4\n",
              "8     0.2481  ...       3\n",
              "9     0.8316  ...       5\n",
              "10    0.9041  ...       4\n",
              "11    0.5538  ...       5\n",
              "12    0.6369  ...       5\n",
              "13    0.9785  ...       5\n",
              "14    0.5709  ...       4\n",
              "15    0.9703  ...       5\n",
              "16    0.2960  ...       5\n",
              "17    0.6467  ...       5\n",
              "18    0.8555  ...       5\n",
              "19    0.2732  ...       5\n",
              "\n",
              "[20 rows x 6 columns]"
            ]
          },
          "metadata": {},
          "execution_count": 12
        }
      ]
    },
    {
      "cell_type": "code",
      "metadata": {
        "colab": {
          "base_uri": "https://localhost:8080/",
          "height": 298
        },
        "id": "1EgsrxQFqlW8",
        "outputId": "2861f63a-0fb5-471f-9625-0c610f826c62"
      },
      "source": [
        "conditions = [df_review['compound']>=0, df_review['compound']<0]\n",
        "choices = ['positive', 'negative']\n",
        "df_review['sentiment'] = np.select(conditions, choices, default = np.nan)\n",
        "df_review.sentiment.hist()\n",
        "plt.title('Positive vs Negative Sentiments')\n",
        "plt.ylabel(\"Frequency\")"
      ],
      "execution_count": null,
      "outputs": [
        {
          "output_type": "execute_result",
          "data": {
            "text/plain": [
              "Text(0, 0.5, 'Frequency')"
            ]
          },
          "metadata": {},
          "execution_count": 16
        },
        {
          "output_type": "display_data",
          "data": {
            "image/png": "[encoded data removed]",
            "text/plain": [
              "<Figure size 432x288 with 1 Axes>"
            ]
          },
          "metadata": {
            "needs_background": "light"
          }
        }
      ]
    },
    {
      "cell_type": "code",
      "source": [
        "df_review.rating.hist()\n",
        "values = [1, 2, 3, 4, 5]\n",
        "plt.xticks(values)\n",
        "plt.xlabel(\"Ratings\")\n",
        "plt.ylabel(\"Frequency\")"
      ],
      "metadata": {
        "colab": {
          "base_uri": "https://localhost:8080/",
          "height": 296
        },
        "id": "kriRqxnV2jwB",
        "outputId": "d98174e9-2d13-4cd3-d568-febfdc647829"
      },
      "execution_count": null,
      "outputs": [
        {
          "output_type": "execute_result",
          "data": {
            "text/plain": [
              "Text(0, 0.5, 'Frequency')"
            ]
          },
          "metadata": {},
          "execution_count": 22
        },
        {
          "output_type": "display_data",
          "data": {
            "image/png": "[encoded data removed]",
            "text/plain": [
              "<Figure size 432x288 with 1 Axes>"
            ]
          },
          "metadata": {
            "needs_background": "light"
          }
        }
      ]
    },
    {
      "cell_type": "code",
      "source": [
        "df_review.sentiment.describe()"
      ],
      "metadata": {
        "colab": {
          "base_uri": "https://localhost:8080/"
        },
        "id": "X7tlrOQ633IZ",
        "outputId": "0b978b3c-3c8d-47b7-c900-ee6b4824cd70"
      },
      "execution_count": null,
      "outputs": [
        {
          "output_type": "execute_result",
          "data": {
            "text/plain": [
              "count       125000\n",
              "unique           2\n",
              "top       positive\n",
              "freq        114762\n",
              "Name: sentiment, dtype: object"
            ]
          },
          "metadata": {},
          "execution_count": 30
        }
      ]
    },
    {
      "cell_type": "code",
      "source": [
        "import statsmodels.api as sm\n",
        "import statsmodels.formula.api as smf\n"
      ],
      "metadata": {
        "colab": {
          "base_uri": "https://localhost:8080/"
        },
        "id": "W4VzpZay4zBD",
        "outputId": "6edea7d3-0b31-49c2-89aa-3d79f5940e53"
      },
      "execution_count": null,
      "outputs": [
        {
          "output_type": "stream",
          "name": "stderr",
          "text": [
            "/usr/local/lib/python3.7/dist-packages/statsmodels/tools/_testing.py:19: FutureWarning: pandas.util.testing is deprecated. Use the functions in the public API at pandas.testing instead.\n",
            "  import pandas.util.testing as tm\n"
          ]
        }
      ]
    },
    {
      "cell_type": "code",
      "source": [
        "model = smf.ols('compound~rating', data = df_review).fit()\n",
        "model.summary()"
      ],
      "metadata": {
        "colab": {
          "base_uri": "https://localhost:8080/",
          "height": 448
        },
        "id": "muPq9SNQ5Avz",
        "outputId": "c9def5fd-eaf9-46e7-8ac1-7a8300bce2c8"
      },
      "execution_count": null,
      "outputs": [
        {
          "output_type": "execute_result",
          "data": {
            "text/html": [
              "<table class=\"simpletable\">\n",
              "<caption>OLS Regression Results</caption>\n",
              "<tr>\n",
              "  <th>Dep. Variable:</th>        <td>compound</td>     <th>  R-squared:         </th> <td>   0.170</td> \n",
              "</tr>\n",
              "<tr>\n",
              "  <th>Model:</th>                   <td>OLS</td>       <th>  Adj. R-squared:    </th> <td>   0.170</td> \n",
              "</tr>\n",
              "<tr>\n",
              "  <th>Method:</th>             <td>Least Squares</td>  <th>  F-statistic:       </th> <td>2.563e+04</td>\n",
              "</tr>\n",
              "<tr>\n",
              "  <th>Date:</th>             <td>Thu, 16 Dec 2021</td> <th>  Prob (F-statistic):</th>  <td>  0.00</td>  \n",
              "</tr>\n",
              "<tr>\n",
              "  <th>Time:</th>                 <td>15:41:16</td>     <th>  Log-Likelihood:    </th> <td> -54654.</td> \n",
              "</tr>\n",
              "<tr>\n",
              "  <th>No. Observations:</th>      <td>125000</td>      <th>  AIC:               </th> <td>1.093e+05</td>\n",
              "</tr>\n",
              "<tr>\n",
              "  <th>Df Residuals:</th>          <td>124998</td>      <th>  BIC:               </th> <td>1.093e+05</td>\n",
              "</tr>\n",
              "<tr>\n",
              "  <th>Df Model:</th>              <td>     1</td>      <th>                     </th>     <td> </td>    \n",
              "</tr>\n",
              "<tr>\n",
              "  <th>Covariance Type:</th>      <td>nonrobust</td>    <th>                     </th>     <td> </td>    \n",
              "</tr>\n",
              "</table>\n",
              "<table class=\"simpletable\">\n",
              "<tr>\n",
              "      <td></td>         <th>coef</th>     <th>std err</th>      <th>t</th>      <th>P>|t|</th>  <th>[0.025</th>    <th>0.975]</th>  \n",
              "</tr>\n",
              "<tr>\n",
              "  <th>Intercept</th> <td>    0.0636</td> <td>    0.004</td> <td>   16.679</td> <td> 0.000</td> <td>    0.056</td> <td>    0.071</td>\n",
              "</tr>\n",
              "<tr>\n",
              "  <th>rating</th>    <td>    0.1366</td> <td>    0.001</td> <td>  160.086</td> <td> 0.000</td> <td>    0.135</td> <td>    0.138</td>\n",
              "</tr>\n",
              "</table>\n",
              "<table class=\"simpletable\">\n",
              "<tr>\n",
              "  <th>Omnibus:</th>       <td>35553.404</td> <th>  Durbin-Watson:     </th> <td>   1.925</td> \n",
              "</tr>\n",
              "<tr>\n",
              "  <th>Prob(Omnibus):</th>  <td> 0.000</td>   <th>  Jarque-Bera (JB):  </th> <td>92263.567</td>\n",
              "</tr>\n",
              "<tr>\n",
              "  <th>Skew:</th>           <td>-1.554</td>   <th>  Prob(JB):          </th> <td>    0.00</td> \n",
              "</tr>\n",
              "<tr>\n",
              "  <th>Kurtosis:</th>       <td> 5.838</td>   <th>  Cond. No.          </th> <td>    16.8</td> \n",
              "</tr>\n",
              "</table><br/><br/>Warnings:<br/>[1] Standard Errors assume that the covariance matrix of the errors is correctly specified."
            ],
            "text/plain": [
              "<class 'statsmodels.iolib.summary.Summary'>\n",
              "\"\"\"\n",
              "                            OLS Regression Results                            \n",
              "==============================================================================\n",
              "Dep. Variable:               compound   R-squared:                       0.170\n",
              "Model:                            OLS   Adj. R-squared:                  0.170\n",
              "Method:                 Least Squares   F-statistic:                 2.563e+04\n",
              "Date:                Thu, 16 Dec 2021   Prob (F-statistic):               0.00\n",
              "Time:                        15:41:16   Log-Likelihood:                -54654.\n",
              "No. Observations:              125000   AIC:                         1.093e+05\n",
              "Df Residuals:                  124998   BIC:                         1.093e+05\n",
              "Df Model:                           1                                         \n",
              "Covariance Type:            nonrobust                                         \n",
              "==============================================================================\n",
              "                 coef    std err          t      P>|t|      [0.025      0.975]\n",
              "------------------------------------------------------------------------------\n",
              "Intercept      0.0636      0.004     16.679      0.000       0.056       0.071\n",
              "rating         0.1366      0.001    160.086      0.000       0.135       0.138\n",
              "==============================================================================\n",
              "Omnibus:                    35553.404   Durbin-Watson:                   1.925\n",
              "Prob(Omnibus):                  0.000   Jarque-Bera (JB):            92263.567\n",
              "Skew:                          -1.554   Prob(JB):                         0.00\n",
              "Kurtosis:                       5.838   Cond. No.                         16.8\n",
              "==============================================================================\n",
              "\n",
              "Warnings:\n",
              "[1] Standard Errors assume that the covariance matrix of the errors is correctly specified.\n",
              "\"\"\""
            ]
          },
          "metadata": {},
          "execution_count": 39
        }
      ]
    },
    {
      "cell_type": "code",
      "source": [
        "sm.stats.anova_lm(model, typ = 2)"
      ],
      "metadata": {
        "colab": {
          "base_uri": "https://localhost:8080/",
          "height": 112
        },
        "id": "nBWz1B-B58bd",
        "outputId": "a743aa20-957d-4b93-a535-04c1fec33df3"
      },
      "execution_count": null,
      "outputs": [
        {
          "output_type": "execute_result",
          "data": {
            "text/html": [
              "<div>\n",
              "<style scoped>\n",
              "    .dataframe tbody tr th:only-of-type {\n",
              "        vertical-align: middle;\n",
              "    }\n",
              "\n",
              "    .dataframe tbody tr th {\n",
              "        vertical-align: top;\n",
              "    }\n",
              "\n",
              "    .dataframe thead th {\n",
              "        text-align: right;\n",
              "    }\n",
              "</style>\n",
              "<table border=\"1\" class=\"dataframe\">\n",
              "  <thead>\n",
              "    <tr style=\"text-align: right;\">\n",
              "      <th></th>\n",
              "      <th>sum_sq</th>\n",
              "      <th>df</th>\n",
              "      <th>F</th>\n",
              "      <th>PR(&gt;F)</th>\n",
              "    </tr>\n",
              "  </thead>\n",
              "  <tbody>\n",
              "    <tr>\n",
              "      <th>rating</th>\n",
              "      <td>3597.608625</td>\n",
              "      <td>1.0</td>\n",
              "      <td>25627.601241</td>\n",
              "      <td>0.0</td>\n",
              "    </tr>\n",
              "    <tr>\n",
              "      <th>Residual</th>\n",
              "      <td>17547.248325</td>\n",
              "      <td>124998.0</td>\n",
              "      <td>NaN</td>\n",
              "      <td>NaN</td>\n",
              "    </tr>\n",
              "  </tbody>\n",
              "</table>\n",
              "</div>"
            ],
            "text/plain": [
              "                sum_sq        df             F  PR(>F)\n",
              "rating     3597.608625       1.0  25627.601241     0.0\n",
              "Residual  17547.248325  124998.0           NaN     NaN"
            ]
          },
          "metadata": {},
          "execution_count": 47
        }
      ]
    },
    {
      "cell_type": "code",
      "source": [
        "np.array(df_review['sentiment'])"
      ],
      "metadata": {
        "colab": {
          "base_uri": "https://localhost:8080/"
        },
        "id": "Ugq0PU_O67Js",
        "outputId": "2c0793d3-d0e7-4b4b-ac01-e0b68b7486ef"
      },
      "execution_count": null,
      "outputs": [
        {
          "output_type": "execute_result",
          "data": {
            "text/plain": [
              "array(['positive', 'positive', 'positive', ..., 'positive', 'negative',\n",
              "       'positive'], dtype=object)"
            ]
          },
          "metadata": {},
          "execution_count": 44
        }
      ]
    },
    {
      "cell_type": "code",
      "source": [
        "def prop(x,y):\n",
        "  a = x/y\n",
        "  b = (y-x)/y\n",
        "  print(\"positive:\" , a, \", Negative:\" , b)"
      ],
      "metadata": {
        "id": "AnEwa-yM72Zi"
      },
      "execution_count": null,
      "outputs": []
    },
    {
      "cell_type": "code",
      "source": [
        "prop(82412, 85616)\n",
        "\n"
      ],
      "metadata": {
        "colab": {
          "base_uri": "https://localhost:8080/"
        },
        "id": "9q1elZPe_03V",
        "outputId": "058b71cd-f8e5-481e-c4a5-991d93a3894a"
      },
      "execution_count": null,
      "outputs": [
        {
          "output_type": "stream",
          "name": "stdout",
          "text": [
            "positive: 0.9625770883946926 , Negative: 0.03742291160530742\n"
          ]
        }
      ]
    },
    {
      "cell_type": "code",
      "metadata": {
        "id": "FTaj0b7xzyhh"
      },
      "source": [
        "import pickle\n",
        "pickle.dump(df, open(\"df_headline.pkl\", \"wb\"))\n",
        "pickle.dump(df_review, open(\"df_review.pkl\", \"wb\"))"
      ],
      "execution_count": null,
      "outputs": []
    },
    {
      "cell_type": "code",
      "metadata": {
        "id": "odbUlqv2zzJk"
      },
      "source": [
        "import pickle "
      ],
      "execution_count": null,
      "outputs": []
    },
    {
      "cell_type": "code",
      "metadata": {
        "id": "M7OF7vXJzzxV",
        "colab": {
          "base_uri": "https://localhost:8080/",
          "height": 165
        },
        "outputId": "a3371610-5ea5-4cdd-f19d-887289872e14"
      },
      "source": [
        "df_review = pickle.load(open(\"df_review.pkl\", \"rb\"))"
      ],
      "execution_count": null,
      "outputs": [
        {
          "output_type": "error",
          "ename": "FileNotFoundError",
          "evalue": "ignored",
          "traceback": [
            "\u001b[0;31m---------------------------------------------------------------------------\u001b[0m",
            "\u001b[0;31mFileNotFoundError\u001b[0m                         Traceback (most recent call last)",
            "\u001b[0;32m<ipython-input-2-561dc843f3c0>\u001b[0m in \u001b[0;36m<module>\u001b[0;34m()\u001b[0m\n\u001b[0;32m----> 1\u001b[0;31m \u001b[0mdf_review\u001b[0m \u001b[0;34m=\u001b[0m \u001b[0mpickle\u001b[0m\u001b[0;34m.\u001b[0m\u001b[0mload\u001b[0m\u001b[0;34m(\u001b[0m\u001b[0mopen\u001b[0m\u001b[0;34m(\u001b[0m\u001b[0;34m\"df_review.pkl\"\u001b[0m\u001b[0;34m,\u001b[0m \u001b[0;34m\"rb\"\u001b[0m\u001b[0;34m)\u001b[0m\u001b[0;34m)\u001b[0m\u001b[0;34m\u001b[0m\u001b[0;34m\u001b[0m\u001b[0m\n\u001b[0m",
            "\u001b[0;31mFileNotFoundError\u001b[0m: [Errno 2] No such file or directory: 'df_review.pkl'"
          ]
        }
      ]
    },
    {
      "cell_type": "code",
      "metadata": {
        "id": "0agRvXA7z0KJ",
        "colab": {
          "base_uri": "https://localhost:8080/",
          "height": 403
        },
        "outputId": "631c6bf0-a2e9-4700-acbd-8e5ec4dd09cd"
      },
      "source": [
        "import seaborn as sns\n",
        "import matplotlib.pyplot as plt\n",
        "sns.catplot(x=\"rating\", y=\"compound\",\n",
        "            kind=\"box\", data=df_review)\n",
        "plt.xlabel(\"Rating\")\n",
        "plt.ylabel(\"Compound Score\")\n",
        "plt.title(\"Product Review Compound Score against Rating\")"
      ],
      "execution_count": null,
      "outputs": [
        {
          "output_type": "execute_result",
          "data": {
            "text/plain": [
              "Text(0.5, 1.0, 'Product Review Compound Score against Rating')"
            ]
          },
          "metadata": {},
          "execution_count": 14
        },
        {
          "output_type": "display_data",
          "data": {
            "image/png": "[encoded data removed]",
            "text/plain": [
              "<Figure size 360x360 with 1 Axes>"
            ]
          },
          "metadata": {
            "needs_background": "light"
          }
        }
      ]
    },
    {
      "cell_type": "code",
      "metadata": {
        "colab": {
          "base_uri": "https://localhost:8080/",
          "height": 235
        },
        "id": "N6ZnHnnOzjFg",
        "outputId": "2f60a28c-37ad-4d54-c2e0-81c76cc45872"
      },
      "source": [
        "import seaborn as sns\n",
        "import matplotlib.pyplot as plt\n",
        "\n",
        "sns.catplot(x = 'rating', y = 'compound', data = df, kind = 'violin')\n",
        "plt.xlabel('Rating')\n",
        "plt.ylabel('Headline Compound Score')\n",
        "plt.title(\"Analyzing Review Headline Compound Score against Product Rating\")"
      ],
      "execution_count": null,
      "outputs": [
        {
          "output_type": "error",
          "ename": "NameError",
          "evalue": "ignored",
          "traceback": [
            "\u001b[0;31m---------------------------------------------------------------------------\u001b[0m",
            "\u001b[0;31mNameError\u001b[0m                                 Traceback (most recent call last)",
            "\u001b[0;32m<ipython-input-11-d9985805b5ce>\u001b[0m in \u001b[0;36m<module>\u001b[0;34m()\u001b[0m\n\u001b[1;32m      2\u001b[0m \u001b[0;32mimport\u001b[0m \u001b[0mmatplotlib\u001b[0m\u001b[0;34m.\u001b[0m\u001b[0mpyplot\u001b[0m \u001b[0;32mas\u001b[0m \u001b[0mplt\u001b[0m\u001b[0;34m\u001b[0m\u001b[0;34m\u001b[0m\u001b[0m\n\u001b[1;32m      3\u001b[0m \u001b[0;34m\u001b[0m\u001b[0m\n\u001b[0;32m----> 4\u001b[0;31m \u001b[0msns\u001b[0m\u001b[0;34m.\u001b[0m\u001b[0mcatplot\u001b[0m\u001b[0;34m(\u001b[0m\u001b[0mx\u001b[0m \u001b[0;34m=\u001b[0m \u001b[0;34m'rating'\u001b[0m\u001b[0;34m,\u001b[0m \u001b[0my\u001b[0m \u001b[0;34m=\u001b[0m \u001b[0;34m'compound'\u001b[0m\u001b[0;34m,\u001b[0m \u001b[0mdata\u001b[0m \u001b[0;34m=\u001b[0m \u001b[0mdf\u001b[0m\u001b[0;34m,\u001b[0m \u001b[0mkind\u001b[0m \u001b[0;34m=\u001b[0m \u001b[0;34m'violin'\u001b[0m\u001b[0;34m)\u001b[0m\u001b[0;34m\u001b[0m\u001b[0;34m\u001b[0m\u001b[0m\n\u001b[0m\u001b[1;32m      5\u001b[0m \u001b[0mplt\u001b[0m\u001b[0;34m.\u001b[0m\u001b[0mxlabel\u001b[0m\u001b[0;34m(\u001b[0m\u001b[0;34m'Rating'\u001b[0m\u001b[0;34m)\u001b[0m\u001b[0;34m\u001b[0m\u001b[0;34m\u001b[0m\u001b[0m\n\u001b[1;32m      6\u001b[0m \u001b[0mplt\u001b[0m\u001b[0;34m.\u001b[0m\u001b[0mylabel\u001b[0m\u001b[0;34m(\u001b[0m\u001b[0;34m'Headline Compound Score'\u001b[0m\u001b[0;34m)\u001b[0m\u001b[0;34m\u001b[0m\u001b[0;34m\u001b[0m\u001b[0m\n",
            "\u001b[0;31mNameError\u001b[0m: name 'df' is not defined"
          ]
        }
      ]
    },
    {
      "cell_type": "code",
      "metadata": {
        "colab": {
          "base_uri": "https://localhost:8080/",
          "height": 403
        },
        "id": "l428TAcH0FIJ",
        "outputId": "40bcf59a-bec6-4fed-d7ed-bad7102f9829"
      },
      "source": [
        "sns.catplot(x = 'rating', y = 'neg_score', data = df, kind = 'violin')\n",
        "plt.xlabel('Rating')\n",
        "plt.ylabel('Score for Headlines')\n",
        "plt.title(\"Compound Score using NLTK Sentiment Analysis\")"
      ],
      "execution_count": null,
      "outputs": [
        {
          "output_type": "execute_result",
          "data": {
            "text/plain": [
              "Text(0.5, 1.0, 'Compound Score using NLTK Sentiment Analysis')"
            ]
          },
          "metadata": {},
          "execution_count": 78
        },
        {
          "output_type": "display_data",
          "data": {
            "image/png": "[encoded data removed]",
            "text/plain": [
              "<Figure size 360x360 with 1 Axes>"
            ]
          },
          "metadata": {
            "needs_background": "light"
          }
        }
      ]
    },
    {
      "cell_type": "code",
      "metadata": {
        "colab": {
          "base_uri": "https://localhost:8080/",
          "height": 283
        },
        "id": "6CgfxXaE6GI2",
        "outputId": "99225e69-4e85-4f94-9663-2312abd3fc94"
      },
      "source": [
        "plt.scatter('rating','neu_score',  data = df_review)"
      ],
      "execution_count": null,
      "outputs": [
        {
          "output_type": "execute_result",
          "data": {
            "text/plain": [
              "<matplotlib.collections.PathCollection at 0x7f7743d88b50>"
            ]
          },
          "metadata": {},
          "execution_count": 64
        },
        {
          "output_type": "display_data",
          "data": {
            "image/png": "[encoded data removed]",
            "text/plain": [
              "<Figure size 432x288 with 1 Axes>"
            ]
          },
          "metadata": {
            "needs_background": "light"
          }
        }
      ]
    },
    {
      "cell_type": "code",
      "metadata": {
        "id": "X5Axjx4M7Vhg"
      },
      "source": [
        ""
      ],
      "execution_count": null,
      "outputs": []
    }
  ]
}